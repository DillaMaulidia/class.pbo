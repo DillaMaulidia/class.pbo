{
  "nbformat": 4,
  "nbformat_minor": 0,
  "metadata": {
    "colab": {
      "provenance": [],
      "authorship_tag": "ABX9TyOK5eIrucvCcFXMgtDIgZNi",
      "include_colab_link": true
    },
    "kernelspec": {
      "name": "python3",
      "display_name": "Python 3"
    },
    "language_info": {
      "name": "python"
    }
  },
  "cells": [
    {
      "cell_type": "markdown",
      "metadata": {
        "id": "view-in-github",
        "colab_type": "text"
      },
      "source": [
        "<a href=\"https://colab.research.google.com/github/DillaMaulidia/class.pbo/blob/main/class_komputer.ipynb\" target=\"_parent\"><img src=\"https://colab.research.google.com/assets/colab-badge.svg\" alt=\"Open In Colab\"/></a>"
      ]
    },
    {
      "cell_type": "code",
      "execution_count": 2,
      "metadata": {
        "colab": {
          "base_uri": "https://localhost:8080/"
        },
        "id": "Rv3hyS-GO-OV",
        "outputId": "e9fc3752-5ac9-4672-f138-930d731956cf"
      },
      "outputs": [
        {
          "output_type": "stream",
          "name": "stdout",
          "text": [
            "Komputer ini bermerek Lenovo dan memiliki RAM 8GB.\n"
          ]
        }
      ],
      "source": [
        "class Komputer:\n",
        "    def __init__(self, merek, ram):\n",
        "        self.merek = merek\n",
        "        self.ram = ram\n",
        "\n",
        "    def info(self):\n",
        "        return f\"Komputer ini bermerek {self.merek} dan memiliki RAM {self.ram}GB.\"\n",
        "\n",
        "komputer1 = Komputer(\"Lenovo\", 8)\n",
        "print(komputer1.info())"
      ]
    }
  ]
}