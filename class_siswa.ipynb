{
  "nbformat": 4,
  "nbformat_minor": 0,
  "metadata": {
    "colab": {
      "provenance": [],
      "authorship_tag": "ABX9TyNI2OKwkkBTzRQHK9BAc8Iv",
      "include_colab_link": true
    },
    "kernelspec": {
      "name": "python3",
      "display_name": "Python 3"
    },
    "language_info": {
      "name": "python"
    }
  },
  "cells": [
    {
      "cell_type": "markdown",
      "metadata": {
        "id": "view-in-github",
        "colab_type": "text"
      },
      "source": [
        "<a href=\"https://colab.research.google.com/github/DillaMaulidia/class.pbo/blob/main/class_siswa.ipynb\" target=\"_parent\"><img src=\"https://colab.research.google.com/assets/colab-badge.svg\" alt=\"Open In Colab\"/></a>"
      ]
    },
    {
      "cell_type": "code",
      "execution_count": 1,
      "metadata": {
        "colab": {
          "base_uri": "https://localhost:8080/"
        },
        "id": "guA1PIO2RnVX",
        "outputId": "03e0819a-70fc-4dec-af68-1879854b6cd2"
      },
      "outputs": [
        {
          "output_type": "stream",
          "name": "stdout",
          "text": [
            "Siswa ini bernama Tristan dan berada di kelas 10A.\n"
          ]
        }
      ],
      "source": [
        "class Siswa:\n",
        "    def __init__(self):\n",
        "        self.nama = \"\"\n",
        "        self.kelas = \"\"\n",
        "\n",
        "def main():\n",
        "    obj = Siswa()\n",
        "    obj.nama = \"Dilla\"\n",
        "    obj.kelas = \"10A\"\n",
        "    print(f\"Siswa ini bernama {obj.nama} dan berada di kelas {obj.kelas}.\")\n",
        "\n",
        "if __name__ == \"__main__\":\n",
        "    main()"
      ]
    }
  ]
}