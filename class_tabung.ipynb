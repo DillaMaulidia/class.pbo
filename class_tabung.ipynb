{
  "nbformat": 4,
  "nbformat_minor": 0,
  "metadata": {
    "colab": {
      "provenance": [],
      "authorship_tag": "ABX9TyOqWTP244zOx92h60zucvD6",
      "include_colab_link": true
    },
    "kernelspec": {
      "name": "python3",
      "display_name": "Python 3"
    },
    "language_info": {
      "name": "python"
    }
  },
  "cells": [
    {
      "cell_type": "markdown",
      "metadata": {
        "id": "view-in-github",
        "colab_type": "text"
      },
      "source": [
        "<a href=\"https://colab.research.google.com/github/DillaMaulidia/class.pbo/blob/main/class_tabung.ipynb\" target=\"_parent\"><img src=\"https://colab.research.google.com/assets/colab-badge.svg\" alt=\"Open In Colab\"/></a>"
      ]
    },
    {
      "cell_type": "code",
      "execution_count": 1,
      "metadata": {
        "colab": {
          "base_uri": "https://localhost:8080/"
        },
        "id": "_x4UMcbDU14U",
        "outputId": "b435bb48-385d-44bf-d784-69088fccb3ae"
      },
      "outputs": [
        {
          "output_type": "stream",
          "name": "stdout",
          "text": [
            "Luas permukaan tabung adalah 747.70.\n"
          ]
        }
      ],
      "source": [
        "import math\n",
        "\n",
        "class Tabung:\n",
        "    def __init__(self):\n",
        "        self.jari_jari = 0\n",
        "        self.tinggi = 0\n",
        "\n",
        "def main():\n",
        "    obj = Tabung()\n",
        "    obj.jari_jari = 7\n",
        "    obj.tinggi = 10\n",
        "    luas_permukaan = 2 * math.pi * obj.jari_jari * (obj.jari_jari + obj.tinggi)\n",
        "    print(f\"Luas permukaan tabung adalah {luas_permukaan:.2f}.\")\n",
        "\n",
        "if __name__ == \"__main__\":\n",
        "    main()"
      ]
    }
  ]
}