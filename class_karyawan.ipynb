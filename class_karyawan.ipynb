{
  "nbformat": 4,
  "nbformat_minor": 0,
  "metadata": {
    "colab": {
      "provenance": [],
      "authorship_tag": "ABX9TyOqoGXE8zwaUi4etYRcv9CG",
      "include_colab_link": true
    },
    "kernelspec": {
      "name": "python3",
      "display_name": "Python 3"
    },
    "language_info": {
      "name": "python"
    }
  },
  "cells": [
    {
      "cell_type": "markdown",
      "metadata": {
        "id": "view-in-github",
        "colab_type": "text"
      },
      "source": [
        "<a href=\"https://colab.research.google.com/github/DillaMaulidia/class.pbo/blob/main/class_karyawan.ipynb\" target=\"_parent\"><img src=\"https://colab.research.google.com/assets/colab-badge.svg\" alt=\"Open In Colab\"/></a>"
      ]
    },
    {
      "cell_type": "code",
      "execution_count": 1,
      "metadata": {
        "colab": {
          "base_uri": "https://localhost:8080/"
        },
        "id": "3SIu9qR2SZvr",
        "outputId": "b6430ebc-9613-4929-cb64-cf5acee8f590"
      },
      "outputs": [
        {
          "output_type": "stream",
          "name": "stdout",
          "text": [
            "Karyawan ini bernama Maulidia dan menjabat sebagai Manager.\n"
          ]
        }
      ],
      "source": [
        "class Karyawan:\n",
        "    def __init__(self):\n",
        "        self.nama = \"\"\n",
        "        self.jabatan = \"\"\n",
        "\n",
        "def main():\n",
        "    obj = Karyawan()\n",
        "    obj.nama = \"Maulidia\"\n",
        "    obj.jabatan = \"Manager\"\n",
        "    print(f\"Karyawan ini bernama {obj.nama} dan menjabat sebagai {obj.jabatan}.\")\n",
        "\n",
        "if __name__ == \"__main__\":\n",
        "    main()"
      ]
    }
  ]
}