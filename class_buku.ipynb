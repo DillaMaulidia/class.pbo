{
  "nbformat": 4,
  "nbformat_minor": 0,
  "metadata": {
    "colab": {
      "provenance": [],
      "authorship_tag": "ABX9TyNKENkz5LbIaQxl9yA586TO",
      "include_colab_link": true
    },
    "kernelspec": {
      "name": "python3",
      "display_name": "Python 3"
    },
    "language_info": {
      "name": "python"
    }
  },
  "cells": [
    {
      "cell_type": "markdown",
      "metadata": {
        "id": "view-in-github",
        "colab_type": "text"
      },
      "source": [
        "<a href=\"https://colab.research.google.com/github/DillaMaulidia/class.pbo/blob/main/class_buku.ipynb\" target=\"_parent\"><img src=\"https://colab.research.google.com/assets/colab-badge.svg\" alt=\"Open In Colab\"/></a>"
      ]
    },
    {
      "cell_type": "code",
      "execution_count": 1,
      "metadata": {
        "colab": {
          "base_uri": "https://localhost:8080/"
        },
        "id": "QlNKewbiQ85x",
        "outputId": "ecd8c533-9733-49fc-d02f-825e09983a95"
      },
      "outputs": [
        {
          "output_type": "stream",
          "name": "stdout",
          "text": [
            "Buku ini berjudul Dancing With the Dark dan ditulis oleh DAASA.\n"
          ]
        }
      ],
      "source": [
        "class Buku:\n",
        "    def __init__(self, judul, penulis):\n",
        "        self.judul = judul\n",
        "        self.penulis = penulis\n",
        "\n",
        "    def info(self):\n",
        "        return f\"Buku ini berjudul {self.judul} dan ditulis oleh {self.penulis}.\"\n",
        "\n",
        "buku1 = Buku(\"Dancing With the Dark\", \"DAASA\")\n",
        "print(buku1.info())"
      ]
    }
  ]
}