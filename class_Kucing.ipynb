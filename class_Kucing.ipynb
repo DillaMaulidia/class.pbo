{
  "nbformat": 4,
  "nbformat_minor": 0,
  "metadata": {
    "colab": {
      "provenance": [],
      "authorship_tag": "ABX9TyMPKX3dzS8R4H79nzJdn/Fk",
      "include_colab_link": true
    },
    "kernelspec": {
      "name": "python3",
      "display_name": "Python 3"
    },
    "language_info": {
      "name": "python"
    }
  },
  "cells": [
    {
      "cell_type": "markdown",
      "metadata": {
        "id": "view-in-github",
        "colab_type": "text"
      },
      "source": [
        "<a href=\"https://colab.research.google.com/github/DillaMaulidia/class.pbo/blob/main/class_Kucing.ipynb\" target=\"_parent\"><img src=\"https://colab.research.google.com/assets/colab-badge.svg\" alt=\"Open In Colab\"/></a>"
      ]
    },
    {
      "cell_type": "code",
      "execution_count": 2,
      "metadata": {
        "colab": {
          "base_uri": "https://localhost:8080/"
        },
        "id": "tYM9LHLxTwE2",
        "outputId": "5251aaa5-831f-4c9b-d017-d90520fcacfa"
      },
      "outputs": [
        {
          "output_type": "stream",
          "name": "stdout",
          "text": [
            "Kucing bersuara: Meow!\n"
          ]
        }
      ],
      "source": [
        "class Kucing:\n",
        "    def __init__(self):\n",
        "        self.nama = \"\"\n",
        "        self.umur = 0\n",
        "\n",
        "def main():\n",
        "    obj = Kucing()\n",
        "    obj.nama = \"Kucing\"\n",
        "    obj.umur = 2\n",
        "    print(f\"{obj.nama} bersuara: Meow!\")\n",
        "\n",
        "if __name__ == \"__main__\":\n",
        "    main()"
      ]
    }
  ]
}